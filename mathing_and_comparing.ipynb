{
 "cells": [
  {
   "cell_type": "markdown",
   "id": "e35293c5-2e68-4b7f-ba7f-d1ef7dab529e",
   "metadata": {},
   "source": [
    "Demo for comparison betweeen IMERG_lateV6 (0.1s* 0.1) and MRMS (0.01 * 0.01) around 16:30 May 16, 2015 -- The Severe Weather Outbreak (EF3 Tornado)"
   ]
  },
  {
   "cell_type": "markdown",
   "id": "e46450d7-d42f-4d23-9e5f-0bde0844d753",
   "metadata": {},
   "source": [
    "1. Access and read data in cloud"
   ]
  },
  {
   "cell_type": "code",
   "execution_count": 1,
   "id": "aa92daad-5404-4b86-a78c-c280f621ad43",
   "metadata": {
    "tags": []
   },
   "outputs": [],
   "source": [
    "# Suppress warnings\n",
    "import warnings\n",
    "warnings.simplefilter('ignore')\n",
    "warnings.filterwarnings('ignore')\n",
    "\n",
    "# # add path to environment in case of plot error\n",
    "# import os\n",
    "# os.environ['PROJ_LIB']=r'/home/user/.conda/envs/venvname/share/proj' # path to the proj4 folder.\n",
    "# os.environ['GDAL_DATA']=r'/home/user/.conda/envs/venvname/share' # path to the proj4 folder.\n",
    "\n",
    "# Direct access\n",
    "import s3fs\n",
    "import earthaccess as ea\n",
    "import fsspec\n",
    "\n",
    "# datetime\n",
    "import datetime as dt\n",
    "\n",
    "# api to read files: possible packages to use\n",
    "# import xarray as xr # for netcdf\n",
    "import h5py  # for hdf5\n",
    "import gzip  # for .gz to decompress the file\n",
    "\n",
    "# data process\n",
    "import numpy as np\n",
    "import pandas as pd\n",
    "\n",
    "# plotting using self-defined functions for better visualization\n",
    "from plot_function import ndarry_mask  # mask the array\n",
    "from plot_function import map_plot  # plot the map\n",
    "import matplotlib.pyplot as plt\n",
    "import seaborn as sns  # package for statistic data visualization"
   ]
  },
  {
   "cell_type": "code",
   "execution_count": 2,
   "id": "ac13e148-b4fe-496b-a817-6be415a79178",
   "metadata": {
    "tags": []
   },
   "outputs": [
    {
     "name": "stdout",
     "output_type": "stream",
     "text": [
      "You're now authenticated with NASA Earthdata Login\n",
      "Using token with expiration date: 10/15/2023\n",
      "Using .netrc file for EDL\n"
     ]
    }
   ],
   "source": [
    "auth = ea.login(strategy=\"netrc\", persist=True) # use 'interactive' strategy the first time to log in"
   ]
  },
  {
   "cell_type": "code",
   "execution_count": 4,
   "id": "52a85bc3-fe72-4710-942f-65a31b0f3c60",
   "metadata": {
    "tags": []
   },
   "outputs": [
    {
     "name": "stdout",
     "output_type": "stream",
     "text": [
      "Granules found: 49\n"
     ]
    }
   ],
   "source": [
    "#### dataset1 in ASCII format with compression ####\n",
    "\n",
    "# step1: provdie the daac name and short name of dataset\n",
    "    # define the name of daac and dataset\n",
    "DAAC1 = 'GES_DISC'\n",
    "ssh_short_name1 = \"GPM_3IMERGHHL\" # short name of dataset. \n",
    "\n",
    "# step2: get links #\n",
    "results1 = ea.search_data(\n",
    "    short_name=ssh_short_name1,\n",
    "    cloud_hosted=True,\n",
    "    temporal=(\"2015-05-16\", \"2015-05-17\"),\n",
    ")\n",
    "\n",
    "    # data_link list\n",
    "https_links1 = []  # external link, todo: find ways to directly access data using external link\n",
    "s3_links1 = []  # s3 link to directly accessing  data in AWS\n",
    "\n",
    "for granule in results1:\n",
    "    https_links1.extend(granule.data_links(access=\"on_prem\"))\n",
    "    s3_links1.extend(granule.data_links(access=\"direct\"))\n",
    "    \n",
    "# step3: select proper links for use (similar part to what we did when we worked in local enviroment)\n",
    "\n",
    "# step4: get credentials and open files with credentials #\n",
    "s3_fs1 = ea.get_s3fs_session(DAAC1) # valid in one hour, need to refresh automatically for longer access\n",
    "\n",
    "#### read hdf5 data ####\n",
    "# open files with s3 links, works only in AWS #\n",
    "with s3_fs1.open(s3_links1[33], mode='rb') as f1: # open files with https links : 4:30-5:00pm\n",
    "    with h5py.File(f1) as hdf5:\n",
    "        lon_gpm = hdf5['Grid']['lon'][:]\n",
    "        lat_gpm = hdf5['Grid']['lat'][:]\n",
    "        date_time = hdf5['Grid']['time_bnds'][:]\n",
    "        precip_gpm = hdf5['Grid']['precipitationCal'][:]\n",
    "        \n",
    "precip_gpm = precip_gpm[0,:,:]\n",
    "precip_gpm[precip_gpm == -9999.9] = np.nan\n",
    "precip_gpm[precip_gpm == 0] = np.nan\n",
    "precip_gpm = np.transpose(precip_gpm)\n",
    "\n",
    "LON_gpm, LAT_gpm = np.meshgrid(lon_gpm,lat_gpm)"
   ]
  },
  {
   "cell_type": "code",
   "execution_count": 5,
   "id": "bc01c68c-b79d-46ff-a413-7a092265c521",
   "metadata": {
    "tags": []
   },
   "outputs": [
    {
     "name": "stdout",
     "output_type": "stream",
     "text": [
      "Granules found: 76\n"
     ]
    }
   ],
   "source": [
    "#### dataset2 in ASCII format with compression ####\n",
    "\n",
    "# step1: provdie the daac name and short name of dataset\n",
    "    # define the name of daac and dataset\n",
    "ssh_short_name2 = \"gpmmrms\" # short name of dataset. \n",
    "\n",
    "# step2: get links #\n",
    "results2 = ea.search_data(\n",
    "    short_name=ssh_short_name2,\n",
    "    cloud_hosted=True,\n",
    "    temporal=(\"2015-05-16\", \"2015-05-17\"),\n",
    ")\n",
    "\n",
    "    # data_link list\n",
    "https_links2 = []  # external link, todo: find ways to directly access data using external link\n",
    "s3_links2 = []  # s3 link to directly accessing  data in AWS\n",
    "\n",
    "for granule in results2:\n",
    "    https_links2.extend(granule.data_links(access=\"on_prem\"))\n",
    "    s3_links2.extend(granule.data_links(access=\"direct\"))\n",
    "    \n",
    "# step3: select proper links for use (similar part to what we did when we worked in local enviroment)\n",
    "\n",
    "# step4: get credentials and open files with credentials #\n",
    "s3_fs2 = ea.get_fsspec_https_session() \n",
    "\n",
    "#### read data under zip file (.gz)####\n",
    "# open files with https links, works both in and out AWS #\n",
    "with s3_fs2.open(https_links2[58], mode='rb') as f2: # open files with https links: 4:44pm\n",
    "    with gzip.open(f2, 'rb') as data_ori:  # decompress .gz files\n",
    "        precip_mrms = np.loadtxt(data_ori,skiprows = 6)  # read interested dataset\n",
    "        \n",
    "with s3_fs2.open(https_links2[58], mode='rb') as f2: # open files with https links\n",
    "    with gzip.open(f2, 'rb') as data_ori:  # decompress .gz files\n",
    "        datainfo = pd.read_csv(data_ori, header=None)[:6]  # read coordinate information\n",
    "        coor_info = datainfo.iloc[0:6, 0].str.split(' ', expand=True) # split coordinate information\n",
    "\n",
    "precip_mrms[precip_mrms == -999.] = np.nan\n",
    "precip_mrms[precip_mrms == 0.] = np.nan\n",
    "        \n",
    "# get the coordinate information\n",
    "x0 = float(coor_info.iloc[2, 1])\n",
    "xn = x0 + (float(precip_mrms.shape[1])-1) * float(coor_info.iloc[4, 1])\n",
    "x_coor = np.round(np.linspace(np.round(x0,2),np.round(xn,2),precip_mrms.shape[1]),2)\n",
    "\n",
    "y0 = float(coor_info.iloc[3, 1])+ (float(precip_mrms.shape[0])-1) * float(coor_info.iloc[4, 1])\n",
    "yn = y0 - (float(precip_mrms.shape[0])-1) * float(coor_info.iloc[4, 1])\n",
    "y_coor = np.round(np.linspace(np.round(y0,2),np.round(yn,2),precip_mrms.shape[0]),2)\n",
    "\n",
    "LON_mrms, LAT_mrms = np.meshgrid(x_coor,y_coor)"
   ]
  },
  {
   "cell_type": "markdown",
   "id": "a379062d-e26b-4d15-a71b-963ef5e2c5c8",
   "metadata": {},
   "source": [
    "2. Matching grids: Match grids in MRMS to GPM grids. Treat the GPM grids as the center and match all grids in MRMRS that are within 0.1 degree to the center. \n",
    "zoom_region = [-130, -60, 20, 55]"
   ]
  },
  {
   "cell_type": "code",
   "execution_count": 6,
   "id": "97c95869-3bf4-452a-b79a-846465ce81a5",
   "metadata": {
    "tags": []
   },
   "outputs": [],
   "source": [
    "index_region = list(zip(*np.where((LON_gpm >=-105) & (LON_gpm <= -95) & (LAT_gpm >=30) & (LAT_gpm <=40))))  # grids for seleceted region"
   ]
  },
  {
   "cell_type": "code",
   "execution_count": 7,
   "id": "ea686e23-b0ab-4276-9f3e-9267ee930491",
   "metadata": {
    "tags": []
   },
   "outputs": [],
   "source": [
    "index_nan_gpm = list(zip(*np.where(~np.isnan(precip_gpm))))\n",
    "index_nan_mrms = list(zip(*np.where(~np.isnan(precip_mrms))))\n",
    "\n",
    "for_index = list(set(index_nan_gpm) & set(index_region))"
   ]
  },
  {
   "cell_type": "code",
   "execution_count": 14,
   "id": "2deafcdc-f44f-4fa7-bb69-875eee4910cd",
   "metadata": {
    "tags": []
   },
   "outputs": [],
   "source": [
    "#### main thread for matching ####\n",
    "\n",
    "pair_precip = pd.DataFrame()\n",
    "\n",
    "for i in range(len(for_index)):\n",
    "    precip_gpm_i = precip_gpm[for_index[i]]  # get precip grid for GPM\n",
    "    center_grid = [LON_gpm[for_index[i]],LAT_gpm[for_index[i]]]  # create the coordinate for the center\n",
    "\n",
    "    distance_matrix = np.sqrt((LON_mrms-center_grid[0])**2 + (LAT_mrms-center_grid[1]) ** 2)  # calcualte distance matrix for MRMS\n",
    "    index_search = list(zip(*np.where(distance_matrix<=0.1)))  # locate the matached grid in MRMS\n",
    "    index_search = list(set(index_search) & set(index_nan_mrms))  # delete the nan girids\n",
    "    index_list = [list(i) for i in index_search]  # convert the coordinate format to a proper format for index searching\n",
    "    index_list = np.transpose(index_list)\n",
    "    \n",
    "    if len(index_list)==0:\n",
    "        continue\n",
    "    \n",
    "    precip_mrms_i = precip_mrms[index_list[0],index_list[1]]  # find the matched grid in MRMS\n",
    "    distance = distance_matrix[index_list[0],index_list[1]]\n",
    "\n",
    "    pair_precip_i = pd.DataFrame({'GPM' : precip_gpm_i, 'MRMS' : precip_mrms_i, 'Dist':distance})\n",
    "    pair_precip = pd.concat([pair_precip,pair_precip_i])"
   ]
  },
  {
   "cell_type": "code",
   "execution_count": 15,
   "id": "bc685bb4-0777-4715-8396-d29828b77464",
   "metadata": {},
   "outputs": [
    {
     "data": {
      "text/html": [
       "<div>\n",
       "<style scoped>\n",
       "    .dataframe tbody tr th:only-of-type {\n",
       "        vertical-align: middle;\n",
       "    }\n",
       "\n",
       "    .dataframe tbody tr th {\n",
       "        vertical-align: top;\n",
       "    }\n",
       "\n",
       "    .dataframe thead th {\n",
       "        text-align: right;\n",
       "    }\n",
       "</style>\n",
       "<table border=\"1\" class=\"dataframe\">\n",
       "  <thead>\n",
       "    <tr style=\"text-align: right;\">\n",
       "      <th></th>\n",
       "      <th>GPM</th>\n",
       "      <th>MRMS</th>\n",
       "      <th>Dist</th>\n",
       "    </tr>\n",
       "  </thead>\n",
       "  <tbody>\n",
       "    <tr>\n",
       "      <th>0</th>\n",
       "      <td>1.36</td>\n",
       "      <td>0.24</td>\n",
       "      <td>0.072800</td>\n",
       "    </tr>\n",
       "    <tr>\n",
       "      <th>1</th>\n",
       "      <td>1.36</td>\n",
       "      <td>0.60</td>\n",
       "      <td>0.070711</td>\n",
       "    </tr>\n",
       "    <tr>\n",
       "      <th>2</th>\n",
       "      <td>1.36</td>\n",
       "      <td>0.49</td>\n",
       "      <td>0.060827</td>\n",
       "    </tr>\n",
       "    <tr>\n",
       "      <th>3</th>\n",
       "      <td>1.36</td>\n",
       "      <td>0.65</td>\n",
       "      <td>0.042427</td>\n",
       "    </tr>\n",
       "    <tr>\n",
       "      <th>4</th>\n",
       "      <td>1.36</td>\n",
       "      <td>3.53</td>\n",
       "      <td>0.078103</td>\n",
       "    </tr>\n",
       "    <tr>\n",
       "      <th>...</th>\n",
       "      <td>...</td>\n",
       "      <td>...</td>\n",
       "      <td>...</td>\n",
       "    </tr>\n",
       "    <tr>\n",
       "      <th>83</th>\n",
       "      <td>0.01</td>\n",
       "      <td>0.12</td>\n",
       "      <td>0.089441</td>\n",
       "    </tr>\n",
       "    <tr>\n",
       "      <th>84</th>\n",
       "      <td>0.01</td>\n",
       "      <td>0.36</td>\n",
       "      <td>0.078101</td>\n",
       "    </tr>\n",
       "    <tr>\n",
       "      <th>85</th>\n",
       "      <td>0.01</td>\n",
       "      <td>0.26</td>\n",
       "      <td>0.042425</td>\n",
       "    </tr>\n",
       "    <tr>\n",
       "      <th>86</th>\n",
       "      <td>0.01</td>\n",
       "      <td>0.14</td>\n",
       "      <td>0.019997</td>\n",
       "    </tr>\n",
       "    <tr>\n",
       "      <th>87</th>\n",
       "      <td>0.01</td>\n",
       "      <td>0.12</td>\n",
       "      <td>0.050989</td>\n",
       "    </tr>\n",
       "  </tbody>\n",
       "</table>\n",
       "<p>214135 rows × 3 columns</p>\n",
       "</div>"
      ],
      "text/plain": [
       "     GPM  MRMS      Dist\n",
       "0   1.36  0.24  0.072800\n",
       "1   1.36  0.60  0.070711\n",
       "2   1.36  0.49  0.060827\n",
       "3   1.36  0.65  0.042427\n",
       "4   1.36  3.53  0.078103\n",
       "..   ...   ...       ...\n",
       "83  0.01  0.12  0.089441\n",
       "84  0.01  0.36  0.078101\n",
       "85  0.01  0.26  0.042425\n",
       "86  0.01  0.14  0.019997\n",
       "87  0.01  0.12  0.050989\n",
       "\n",
       "[214135 rows x 3 columns]"
      ]
     },
     "execution_count": 15,
     "metadata": {},
     "output_type": "execute_result"
    }
   ],
   "source": [
    "pair_precip"
   ]
  },
  {
   "cell_type": "code",
   "execution_count": 17,
   "id": "22594a72-938f-42c6-916b-54a1ece7b395",
   "metadata": {
    "tags": []
   },
   "outputs": [
    {
     "data": {
      "text/plain": [
       "136.59"
      ]
     },
     "execution_count": 17,
     "metadata": {},
     "output_type": "execute_result"
    }
   ],
   "source": [
    "np.max(pair_precip['MRMS'])"
   ]
  },
  {
   "cell_type": "markdown",
   "id": "d0383ffc-1b32-4112-b2bd-7ac6a74781d3",
   "metadata": {},
   "source": [
    "3. Hotmap plot"
   ]
  },
  {
   "cell_type": "code",
   "execution_count": 27,
   "id": "819cd53f-f479-4e27-af48-5b4a318172ac",
   "metadata": {
    "tags": []
   },
   "outputs": [
    {
     "data": {
      "text/plain": [
       "<Figure size 1200x1200 with 0 Axes>"
      ]
     },
     "metadata": {},
     "output_type": "display_data"
    },
    {
     "data": {
      "image/png": "[encoded data removed]",
      "text/plain": [
       "<Figure size 600x600 with 4 Axes>"
      ]
     },
     "metadata": {},
     "output_type": "display_data"
    }
   ],
   "source": [
    "varname = 'Precipitation Rate (mm/h)'\n",
    "df_plot = pair_precip\n",
    "var1 = 'MRMS'\n",
    "var2 = 'GPM'\n",
    "color_hist = 'blue'\n",
    "color_cmp = 'jet'\n",
    "\n",
    "fig = plt.figure(figsize=(12,12))\n",
    "\n",
    "joint_kws = dict(bins=100)\n",
    "# fig = plt.figure(figsize=(16,16))\n",
    "\n",
    "x = np.linspace(0,150,100)\n",
    "y = np.linspace(0,150,100)\n",
    "\n",
    "mean_i = np.mean(df_plot[var2]-df_plot[var1])\n",
    "MAE_i = np.mean(np.abs(df_plot[var2]-df_plot[var1]))\n",
    "\n",
    "ax1 = sns.jointplot(data = df_plot, x=var1, y=var2, kind='hist', edgecolor = None, color = color_hist, joint_kws = joint_kws)\n",
    "# ax1.ax_joint.axhline(y=0, color = 'r', linestyle = 'dashed')\n",
    "# ax1.ax_joint.plot(x[1:],y,color = 'b')\n",
    "ax1.ax_joint.cla()\n",
    "plt.sca(ax1.ax_joint)\n",
    "plt.hist2d(df_plot[var1],df_plot[var2],bins=100, norm='log',cmap=color_cmp)\n",
    "plt.title('Scatter plot for {}'.format(varname),y=1.2,x=0.6)\n",
    "plt.ylabel(var2,fontsize=12)\n",
    "plt.xlabel(var1,fontsize=12)\n",
    "plt.text(80,75,'mean error: {}'.format(round(mean_i,2)))\n",
    "plt.text(80,72,'mean absolute error: {}'.format(round(MAE_i,2)))\n",
    "# plt.axhline(y=0,color = 'black', linestyle = 'dashed')\n",
    "plt.plot(x,y,color = 'red', linestyle = 'dashed')\n",
    "\n",
    "cbar_ax = ax1.fig.add_axes([1, 0.1, .03, .7])\n",
    "cb = plt.colorbar(cax=cbar_ax)\n",
    "cb.set_label(r'$\\log_{10}$ density of points',fontsize=13)\n",
    "plt.show()"
   ]
  },
  {
   "cell_type": "code",
   "execution_count": null,
   "id": "0ac5611a-331b-4316-9e54-d0c6d90a401c",
   "metadata": {},
   "outputs": [],
   "source": []
  }
 ],
 "metadata": {
  "kernelspec": {
   "display_name": "Python 3 (ipykernel)",
   "language": "python",
   "name": "python3"
  },
  "language_info": {
   "codemirror_mode": {
    "name": "ipython",
    "version": 3
   },
   "file_extension": ".py",
   "mimetype": "text/x-python",
   "name": "python",
   "nbconvert_exporter": "python",
   "pygments_lexer": "ipython3",
   "version": "3.9.16"
  }
 },
 "nbformat": 4,
 "nbformat_minor": 5
}
