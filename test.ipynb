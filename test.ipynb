# Suppress warnings
import warnings

warnings.simplefilter('ignore')
warnings.filterwarnings('ignore')

# Direct access
from pprint import pprint
import s3fs
import earthaccess as ea
import boto3
import fsspec

# datetime
import datetime as dt

# api to read files and data process
import gzip
import xarray as xr
import h5py
import numpy as np
import pandas as pd
