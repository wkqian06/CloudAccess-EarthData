{
 "cells": [
  {
   "cell_type": "code",
   "execution_count": null,
   "id": "2ec1369d",
   "metadata": {},
   "outputs": [],
   "source": [
    "# Suppress warnings\n",
    "import warnings\n",
    "warnings.simplefilter('ignore')\n",
    "warnings.filterwarnings('ignore')\n",
    "\n",
    "# Direct access\n",
    "from pprint import pprint\n",
    "import s3fs\n",
    "import earthaccess as ea\n",
    "import boto3\n",
    "import fsspec\n",
    "\n",
    "# datetime\n",
    "import datetime as dt\n",
    "\n",
    "# api to read files and data process\n",
    "import gzip\n",
    "import xarray as xr\n",
    "import h5py\n",
    "import numpy as np\n",
    "import pandas as pd"
   ]
  },
  {
   "cell_type": "code",
   "execution_count": null,
   "id": "16e89f53",
   "metadata": {},
   "outputs": [],
   "source": [
    "# if you want to print the structure of a HDF5 file you can use the following code:\n",
    "def h5printR(item, leading = ''):\n",
    "    for key in item:\n",
    "        if isinstance(item[key], h5py.Dataset):\n",
    "            print(leading + key + ': ' + str(item[key].shape))\n",
    "        else:\n",
    "            print(leading + key)\n",
    "            h5printR(item[key], leading + '  ')"
   ]
  },
  {
   "cell_type": "code",
   "execution_count": null,
   "id": "3dab76a3",
   "metadata": {},
   "outputs": [],
   "source": [
    "auth = ea.login(strategy=\"netrc\", persist=True) # use 'interactive' strategy the first time to log in"
   ]
  },
  {
   "cell_type": "code",
   "execution_count": null,
   "id": "2ceae994",
   "metadata": {},
   "outputs": [],
   "source": [
    "#### dataset2 in ASCII format with compression ####\n",
    "\n",
    "# step1: provdie the daac name and short name of dataset\n",
    "    # define the name of daac and dataset\n",
    "DAAC2 = 'GHRC_DAAC'\n",
    "ssh_short_name2 = \"gpmmrms\" # short name of dataset. \n",
    "\n",
    "# step2: get links #\n",
    "results2 = ea.search_data(\n",
    "    short_name=ssh_short_name2,\n",
    "    cloud_hosted=True,\n",
    "    temporal=(\"2015-07-01\", \"2015-07-02\"),\n",
    ")\n",
    "\n",
    "    # data_link list\n",
    "https_links2 = []  # external link, todo: find ways to directly access data using external link\n",
    "s3_links2 = []  # s3 link to directly accessing  data in AWS\n",
    "\n",
    "for granule in results2:\n",
    "    https_links2.extend(granule.data_links(access=\"on_prem\"))\n",
    "    s3_links2.extend(granule.data_links(access=\"direct\"))\n",
    "    \n",
    "# step3: select proper links for use (similar part to what we did when we worked in local enviroment)\n",
    "\n",
    "# step4: get credentials and open files with credentials #\n",
    "s3_fs2 = ea.get_fsspec_https_session() # open files with https links, works both in and out AWS \n",
    "f2 = s3_fs2.open(https_links2[0], mode='rb')  # longer credential for 90 days\n",
    "\n",
    "#### read data under zip file (.gz)####\n",
    "\n",
    "# step5: open zip file #\n",
    "data_ori = gzip.open(f2, 'rb')\n",
    "\n",
    "# step6: read data # \n",
    "datainfo = pd.read_csv(data_ori,header = None)[:6]  # read file information in the first 6 rows,which can be ignored\n",
    "ascii_grid = np.loadtxt(data_ori,skiprows=6)  # read interested dataset "
   ]
  },
  {
   "cell_type": "code",
   "execution_count": null,
   "id": "4e1d10c8",
   "metadata": {},
   "outputs": [],
   "source": []
  }
 ],
 "metadata": {
  "kernelspec": {
   "display_name": "Python 3 (ipykernel)",
   "language": "python",
   "name": "python3"
  },
  "language_info": {
   "codemirror_mode": {
    "name": "ipython",
    "version": 3
   },
   "file_extension": ".py",
   "mimetype": "text/x-python",
   "name": "python",
   "nbconvert_exporter": "python",
   "pygments_lexer": "ipython3",
   "version": "3.9.7"
  }
 },
 "nbformat": 4,
 "nbformat_minor": 5
}
